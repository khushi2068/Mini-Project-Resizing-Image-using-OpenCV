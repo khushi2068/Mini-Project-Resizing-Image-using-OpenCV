{
  "nbformat": 4,
  "nbformat_minor": 0,
  "metadata": {
    "colab": {
      "provenance": [],
      "authorship_tag": "ABX9TyN4fZrz+OULLiHR8wjwK6nB",
      "include_colab_link": true
    },
    "kernelspec": {
      "name": "python3",
      "display_name": "Python 3"
    },
    "language_info": {
      "name": "python"
    }
  },
  "cells": [
    {
      "cell_type": "markdown",
      "metadata": {
        "id": "view-in-github",
        "colab_type": "text"
      },
      "source": [
        "<a href=\"https://colab.research.google.com/github/khushi2068/Mini-Project-Resizing-Image-using-OpenCV/blob/main/Resizing_images.ipynb\" target=\"_parent\"><img src=\"https://colab.research.google.com/assets/colab-badge.svg\" alt=\"Open In Colab\"/></a>"
      ]
    },
    {
      "cell_type": "code",
      "execution_count": 2,
      "metadata": {
        "colab": {
          "base_uri": "https://localhost:8080/"
        },
        "id": "Q9wrkK2uSS_u",
        "outputId": "c2bc21fe-7b31-40a1-f4cf-961e145c0a88"
      },
      "outputs": [
        {
          "output_type": "stream",
          "name": "stdout",
          "text": [
            "Looking in indexes: https://pypi.org/simple, https://us-python.pkg.dev/colab-wheels/public/simple/\n",
            "Collecting simple_image_download\n",
            "  Downloading simple_image_download-0.5-py3-none-any.whl (7.0 kB)\n",
            "Requirement already satisfied: requests in /usr/local/lib/python3.10/dist-packages (from simple_image_download) (2.27.1)\n",
            "INFO: pip is looking at multiple versions of simple-image-download to determine which version is compatible with other requirements. This could take a while.\n",
            "  Downloading simple_image_download-0.4-py3-none-any.whl (4.9 kB)\n",
            "  Downloading simple_image_download-0.2-py3-none-any.whl (3.8 kB)\n",
            "Requirement already satisfied: urllib3<1.27,>=1.21.1 in /usr/local/lib/python3.10/dist-packages (from requests->simple_image_download) (1.26.15)\n",
            "Requirement already satisfied: certifi>=2017.4.17 in /usr/local/lib/python3.10/dist-packages (from requests->simple_image_download) (2022.12.7)\n",
            "Requirement already satisfied: charset-normalizer~=2.0.0 in /usr/local/lib/python3.10/dist-packages (from requests->simple_image_download) (2.0.12)\n",
            "Requirement already satisfied: idna<4,>=2.5 in /usr/local/lib/python3.10/dist-packages (from requests->simple_image_download) (3.4)\n",
            "Installing collected packages: simple_image_download\n",
            "Successfully installed simple_image_download-0.2\n"
          ]
        }
      ],
      "source": [
        "!pip install simple_image_download"
      ]
    },
    {
      "cell_type": "code",
      "source": [
        "from simple_image_download import simple_image_download as simp\n",
        "response = simp.simple_image_download"
      ],
      "metadata": {
        "id": "DOJnH2L4S0mO"
      },
      "execution_count": 3,
      "outputs": []
    },
    {
      "cell_type": "code",
      "source": [
        "response().download('peacock',100)"
      ],
      "metadata": {
        "id": "GPxMbh9RYLDt"
      },
      "execution_count": 20,
      "outputs": []
    },
    {
      "cell_type": "code",
      "source": [
        "import cv2\n",
        "import os"
      ],
      "metadata": {
        "id": "WRJNTu7KYZLk"
      },
      "execution_count": 6,
      "outputs": []
    },
    {
      "cell_type": "code",
      "source": [
        "image_dir='/content/simple_images/peacock'\n",
        "image_files=os.listdir('/content/simple_images/peacock')\n",
        "output_dir='peacock_resized_images'\n",
        "os.makedirs(output_dir,exist_ok=True)"
      ],
      "metadata": {
        "id": "7sQgmYBNYc6U"
      },
      "execution_count": 21,
      "outputs": []
    },
    {
      "cell_type": "code",
      "source": [
        "\n",
        "# Iterate through the image files\n",
        "for image_file in image_files:\n",
        "    # Construct the full path to the image file\n",
        "    image_path = os.path.join(image_dir, image_file)\n",
        "\n",
        "    try:\n",
        "        # Read the image\n",
        "        image = cv2.imread(image_path)\n",
        "\n",
        "        if image is not None:\n",
        "            # Get the original image dimensions\n",
        "            height, width = image.shape[:2]\n",
        "\n",
        "            # Calculate the new dimensions for resizing (50% of the original size)\n",
        "            new_width = int(width * 0.5)\n",
        "            new_height = int(height * 0.5)\n",
        "\n",
        "            # Resize the image to the new dimensions\n",
        "            resized_image = cv2.resize(image, (new_width, new_height))\n",
        "\n",
        "            new_name = \"resized_\" + image_file\n",
        "\n",
        "            # Save the resized image with the new name in the new directory\n",
        "            output_path = os.path.join(output_dir, new_name)\n",
        "            cv2.imwrite(output_path, resized_image)\n",
        "        else:\n",
        "            print(f\"Error reading image: {image_file}\")\n",
        "    except Exception as e:\n",
        "        print(f\"Error processing image: {image_file}\")\n",
        "        print(str(e))\n"
      ],
      "metadata": {
        "colab": {
          "base_uri": "https://localhost:8080/"
        },
        "id": "GC0A_jN2ZA6o",
        "outputId": "35f1cdc7-63a3-49fc-ff80-1b4108307408"
      },
      "execution_count": 23,
      "outputs": [
        {
          "output_type": "stream",
          "name": "stdout",
          "text": [
            "Error reading image: peacock_39.jpg\n",
            "Error reading image: peacock_94.jpg\n",
            "Error reading image: peacock_53.jpg\n",
            "Error reading image: peacock_8.jpg\n",
            "Error reading image: peacock_82.jpg\n",
            "Error reading image: peacock_33.jpg\n",
            "Error reading image: peacock_60.jpg\n",
            "Error reading image: peacock_26.jpg\n",
            "Error reading image: peacock_59.jpg\n",
            "Error reading image: peacock_35.jpg\n",
            "Error reading image: peacock_44.jpg\n",
            "Error reading image: peacock_69.jpg\n",
            "Error reading image: peacock_18.jpg\n",
            "Error reading image: peacock_52.jpg\n",
            "Error reading image: peacock_64.jpg\n"
          ]
        }
      ]
    }
  ]
}